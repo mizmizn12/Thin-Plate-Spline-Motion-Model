{
  "nbformat": 4,
  "nbformat_minor": 0,
  "metadata": {
    "colab": {
      "name": "Thin-Plate-Spline-Motion-Model",
      "provenance": [],
      "collapsed_sections": [],
      "include_colab_link": true
    },
    "kernelspec": {
      "name": "python3",
      "display_name": "Python 3"
    },
    "language_info": {
      "name": "python"
    },
    "accelerator": "GPU"
  },
  "cells": [
    {
      "cell_type": "markdown",
      "metadata": {
        "id": "view-in-github",
        "colab_type": "text"
      },
      "source": [
        "<a href=\"https://colab.research.google.com/github/cedro3/Thin-Plate-Spline-Motion-Model/blob/main/Thin_Plate_Spline_Motion_Model.ipynb\" target=\"_parent\"><img src=\"https://colab.research.google.com/assets/colab-badge.svg\" alt=\"Open In Colab\"/></a>"
      ]
    },
    {
      "cell_type": "code",
      "execution_count": null,
      "metadata": {
        "id": "wCV9R4cV_Uap"
      },
      "outputs": [],
      "source": [
        "#@title #**1.セットアップ**\n",
        "\n",
        "# githubからコードをコピー\n",
        "! git clone https://github.com/cedro3/Thin-Plate-Spline-Motion-Model.git\n",
        "%cd Thin-Plate-Spline-Motion-Model\n",
        "\n",
        "# チェックポイントのダウンロード\n",
        "!mkdir checkpoints\n",
        "import gdown\n",
        "gdown.download('https://drive.google.com/uc?id=1-CKOjv_y_TzNe-dwQsjjeVxJUuyBAb5X', 'checkpoints/vox.pth.tar', quiet=False)\n",
        "#gdown.download('https://drive.google.com/uc?id=1Oy2X7DTXp8OdbMesQ6bLzJ_sR8X86DtB', 'checkpoints/ted.pth.tar', quiet=False)\n",
        "#gdown.download('https://drive.google.com/uc?id=1gZiUyhGZV0AYZ1G9aBtxYMxSdcBW9kc4', 'checkpoints/taichi.pth.tar', quiet=False)\n",
        "#gdown.download('https://drive.google.com/uc?id=1zwhsHvRt8-ymhkLXC8iglp-h7A8x7XJY', 'checkpoints/mgif.pth.tar', quiet=False)\n",
        "\n",
        "#!wget -c https://cloud.tsinghua.edu.cn/f/da8d61d012014b12a9e4/?dl=1 -O checkpoints/vox.pth.tar\n",
        "#!wget -c https://cloud.tsinghua.edu.cn/f/483ef53650b14ac7ae70/?dl=1 -O checkpoints/ted.pth.tar\n",
        "#!wget -c https://cloud.tsinghua.edu.cn/f/9ec01fa4aaef423c8c02/?dl=1 -O checkpoints/taichi.pth.tar\n",
        "#!wget -c https://cloud.tsinghua.edu.cn/f/cd411b334a2e49cdb1e2/?dl=1 -O checkpoints/mgif.pth.tar\n",
        "\n",
        "# ランドマークデータのダウンロード\n",
        "! wget http://dlib.net/files/shape_predictor_68_face_landmarks.dat.bz2\n",
        "! bzip2 -dk shape_predictor_68_face_landmarks.dat.bz2\n",
        "\n",
        "# 関数のインポート\n",
        "! pip install pyyaml==5.4.1\n",
        "! pip install imageio==2.4.1\n",
        "from function import *\n",
        "\n",
        "# downloadフォルダ作成\n",
        "import os\n",
        "os.makedirs('examples/download')\n"
      ]
    },
    {
      "cell_type": "code",
      "source": [
        "#@title #**2.ソースとビデオの表示**\n",
        "\n",
        "%matplotlib inline\n",
        "\n",
        "# --- 画像表示 ---\n",
        "print('=== source ===')\n",
        "display_pic('examples/source')\n",
        "\n",
        "# --- 動画表示 ---\n",
        "print('=== video ===')\n",
        "reset_folder('examples/pic_video')\n",
        "import glob\n",
        "files = sorted(glob.glob('examples/video/*.mp4'))\n",
        "names = []\n",
        "for file in files:\n",
        "  name = os.path.basename(file)\n",
        "  save_frame(name, 'examples/video', 'examples/pic_video')\n",
        "  names.append(name)\n",
        "display_movie('examples/pic_video', names)"
      ],
      "metadata": {
        "id": "BFnONu8fE_pD"
      },
      "execution_count": null,
      "outputs": []
    },
    {
      "cell_type": "code",
      "source": [
        "#@title #**3.動画の作成**\n",
        "\n",
        "import imageio\n",
        "import numpy as np\n",
        "#import matplotlib.pyplot as plt\n",
        "#import matplotlib.animation as animation\n",
        "from skimage.transform import resize\n",
        "from IPython.display import HTML, clear_output\n",
        "import warnings\n",
        "import os\n",
        "\n",
        "warnings.filterwarnings(\"ignore\")\n",
        "\n",
        "# ソースとビデオのファイル名\n",
        "source = '04.jpg' #@param {\"type\": \"string\"}\n",
        "video = '04.mp4' #@param {\"type\": \"string\"} \n",
        "\n",
        "# 設定\n",
        "import torch\n",
        "device = torch.device('cuda:0')\n",
        "dataset_name = 'vox' # ['vox', 'taichi', 'ted', 'mgif']\n",
        "source_image_path = './examples/source/'+source\n",
        "driving_video_path = './examples/video/'+video\n",
        "output_video_path = './generated.mp4'\n",
        "config_path = 'config/vox-256.yaml'\n",
        "checkpoint_path = 'checkpoints/vox.pth.tar'\n",
        "predict_mode = 'relative' # ['standard', 'relative', 'avd']\n",
        "find_best_frame = False # when use the relative mode to animate a face, use 'find_best_frame=True' can get better quality result\n",
        "\n",
        "pixel = 512 # for vox, taichi and mgif, the resolution is 512*512\n",
        "if(dataset_name == 'ted'): # for ted, the resolution is 384*384\n",
        "    pixel = 384\n",
        "\n",
        "if find_best_frame:\n",
        "  !pip install face_alignment\n",
        "\n",
        "# モデルのロード\n",
        "from demo import load_checkpoints\n",
        "inpainting, kp_detector, dense_motion_network, avd_network = load_checkpoints(config_path = config_path, checkpoint_path = checkpoint_path, device = device)\n",
        "\n",
        "\n",
        "# ソースの読み込み\n",
        "source_image = imageio.imread(source_image_path)\n",
        "source_image = resize(source_image, (pixel, pixel))[..., :3]\n",
        "\n",
        "\n",
        "# ビデオの読み込み\n",
        "reader = imageio.get_reader(driving_video_path)\n",
        "fps = reader.get_meta_data()['fps']\n",
        "print('fps = ', fps) ####\n",
        "driving_video = []\n",
        "try:\n",
        "    for im in reader:\n",
        "        driving_video.append(im)\n",
        "except RuntimeError:\n",
        "    pass\n",
        "reader.close()\n",
        "driving_video = [resize(frame, (pixel, pixel))[..., :3] for frame in driving_video]\n",
        "\n",
        "\n",
        "# 予測\n",
        "from demo import make_animation\n",
        "from skimage import img_as_ubyte\n",
        "\n",
        "if predict_mode=='relative' and find_best_frame:\n",
        "    from demo import find_best_frame as _find\n",
        "    i = _find(source_image, driving_video, device.type=='cpu')\n",
        "    print (\"Best frame: \" + str(i))\n",
        "    driving_forward = driving_video[i:]\n",
        "    driving_backward = driving_video[:(i+1)][::-1]\n",
        "    predictions_forward = make_animation(source_image, driving_forward, inpainting, kp_detector, dense_motion_network, avd_network, device = device, mode = predict_mode)\n",
        "    predictions_backward = make_animation(source_image, driving_backward, inpainting, kp_detector, dense_motion_network, avd_network, device = device, mode = predict_mode)\n",
        "    predictions = predictions_backward[::-1] + predictions_forward[1:]\n",
        "else:\n",
        "    predictions = make_animation(source_image, driving_video, inpainting, kp_detector, dense_motion_network, avd_network, device = device, mode = predict_mode)\n",
        "\n",
        "\n",
        "# 画像の連結\n",
        "import cv2\n",
        "import numpy as np\n",
        "\n",
        "reset_folder('images')\n",
        "reset_folder('images2')\n",
        "\n",
        "for i in range(len(predictions)):\n",
        "    source_img = (source_image * 255).astype(np.uint8)\n",
        "    drive = (driving_video[i] * 255).astype(np.uint8)\n",
        "    predict = (predictions[i] * 255).astype(np.uint8)\n",
        "\n",
        "    # 横長\n",
        "    tmp = cv2.hconcat([source_img, drive])\n",
        "    img = cv2.hconcat([tmp, predict])\n",
        "    imageio.imwrite('images/'+str(i).zfill(6)+'.jpg', img)\n",
        "\n",
        "    # スクエア\n",
        "    black = cv2.imread('black.jpg')\n",
        "    up = cv2.hconcat([black, source_img])\n",
        "    down = cv2.hconcat([drive, predict])\n",
        "    all = cv2.vconcat([up, down])\n",
        "    imageio.imwrite('images2/'+str(i).zfill(6)+'.jpg', all)\n",
        "\n",
        "# 動画作成\n",
        "print('making movie...')\n",
        "! ffmpeg -y -r $fps -i images/%06d.jpg -vcodec libx264 -pix_fmt yuv420p -loglevel error out.mp4\n",
        "! ffmpeg -y -r $fps -i images2/%06d.jpg -vcodec libx264 -pix_fmt yuv420p -loglevel error out2.mp4\n",
        "\n",
        "# 音声抽出・付加\n",
        "print('preparation for sound...')\n",
        "! ffmpeg -y -i $driving_video_path -loglevel error sound.mp3\n",
        "! ffmpeg -y -i out.mp4 -i sound.mp3 -loglevel error output.mp4\n",
        "! ffmpeg -y -i out2.mp4 -i sound.mp3 -loglevel error output2.mp4\n",
        "\n",
        "# 画像の再生\n",
        "clear_output()\n",
        "display_mp4('output.mp4')\n"
      ],
      "metadata": {
        "id": "c4JIoUABHxjH"
      },
      "execution_count": null,
      "outputs": []
    },
    {
      "cell_type": "code",
      "source": [
        "#@title #**4.動画のダウンロード**\n",
        "\n",
        "#@markdown ・正方形にしたい場合は、squareにチェックを入れて下さい\n",
        "\n",
        "import shutil\n",
        "source_name = os.path.splitext(source)\n",
        "video_name = os.path.splitext(video)\n",
        "\n",
        "square = True #@param {type:\"boolean\"}\n",
        "\n",
        "if square == True:\n",
        "  download_name = 'examples/download/'+source_name[0]+'_'+video_name[0]+'s.mp4'\n",
        "  shutil.copy('output2.mp4', download_name)\n",
        "else:\n",
        "  download_name = 'examples/download/'+source_name[0]+'_'+video_name[0]+'b.mp4'\n",
        "  shutil.copy('output.mp4', download_name)\n",
        "\n",
        "from google.colab import files\n",
        "files.download(download_name)"
      ],
      "metadata": {
        "id": "3dXHlR4qdR-P"
      },
      "execution_count": null,
      "outputs": []
    },
    {
      "cell_type": "markdown",
      "source": [
        "![002_1.jpg](data:image/jpeg;base64,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)"
      ],
      "metadata": {
        "id": "pG7UqP1mxjSI"
      }
    },
    {
      "cell_type": "code",
      "source": [
        "#@title #**5.画像のアップロード**\n",
        "\n",
        "# ルートへ画像をアップロード\n",
        "from google.colab import files\n",
        "reset_folder('pic')\n",
        "uploaded = files.upload()           \n",
        "uploaded = list(uploaded.keys())    \n",
        "\n",
        "# ルートから指定フォルダーへ移動\n",
        "for file in uploaded:\n",
        "    shutil.move(file, 'pic')\n",
        "\n",
        "%matplotlib inline\n",
        "display_pic('pic')\n"
      ],
      "metadata": {
        "id": "BRywHDC-ASiN"
      },
      "execution_count": null,
      "outputs": []
    },
    {
      "cell_type": "code",
      "source": [
        "#@title #**6.顔の切り出し**\n",
        "import os\n",
        "import shutil\n",
        "from tqdm import tqdm\n",
        "import glob\n",
        "\n",
        "reset_folder('align')\n",
        "\n",
        "def run_alignment(image_path):\n",
        "  import dlib\n",
        "  from alignment import align_face\n",
        "  predictor = dlib.shape_predictor(\"shape_predictor_68_face_landmarks.dat\")\n",
        "  aligned_image = align_face(filepath=image_path, predictor=predictor) \n",
        "  return aligned_image \n",
        " \n",
        "files = sorted(glob.glob('pic/*.jpg'))\n",
        "for i, file in enumerate(tqdm(files)):\n",
        "  input_image = run_alignment(file)\n",
        "  input_image.resize((1024,1024))\n",
        "  name = os.path.basename(file)\n",
        "  input_image.save('./align/'+name)\n",
        "\n",
        "%matplotlib inline \n",
        "display_pic('align')"
      ],
      "metadata": {
        "id": "3IRX2xTkAVYE"
      },
      "execution_count": null,
      "outputs": []
    },
    {
      "cell_type": "code",
      "source": [
        "#@title #**7.ソースへ追加**\n",
        "add = '' #@param {type:\"string\"}\n",
        "\n",
        "import shutil\n",
        "shutil.copy('align/'+add, 'examples/source/'+add)\n",
        "\n"
      ],
      "metadata": {
        "id": "Jkytc587AeyK"
      },
      "execution_count": null,
      "outputs": []
    }
  ]
}
